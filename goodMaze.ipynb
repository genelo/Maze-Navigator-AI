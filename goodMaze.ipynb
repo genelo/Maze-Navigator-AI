{
 "cells": [
  {
   "cell_type": "code",
   "execution_count": 3,
   "metadata": {
    "collapsed": false
   },
   "outputs": [],
   "source": [
    "class singlePoint:\n",
    "    def __init__(self,x,y):\n",
    "        self.x = x\n",
    "        self.y = y\n",
    "        \n",
    "class obstacle(singlePoint):\n",
    "    def __init__(self,x,y,visited):\n",
    "        self.x = x\n",
    "        self.y = y\n",
    "        self.visited = visited\n",
    "    \n",
    "    def visited(self):\n",
    "        return self.visited\n",
    "    \n",
    "class quickSand(obstacle):\n",
    "    def __init__(self,x,y,visited):\n",
    "        self.x = x\n",
    "        self.y = y\n",
    "        self.visited = visited\n",
    "        \n",
    "#work on the range\n",
    "class spiderNet(singlePoint):\n",
    "    def __init__(self,x,y,visited):\n",
    "        self.x = x\n",
    "        self.y = y\n",
    "        self.visited = visited\n",
    "    '''\n",
    "        def visited(self, agentX,agentY ):\n",
    "         if ( (((agentX >= self.x -2)  and (agentY >=  self.y-2)) and\n",
    "              ((agentX >=self.x -2)  and (agentY <=  self.y+2))) \n",
    "            and\n",
    "            (((agentX <=self.x +2) and (agentY >=  self.y-2)) and\n",
    "             ((agentX <=self.x +2) and (agentY <=  self.y+2))) ):\n",
    "            print (\"in\")\n",
    "        else:\n",
    "            print (\"out\")\n",
    "    '''\n",
    "class fee(obstacle):\n",
    "    def __init__(self,x,y,cost,visited):\n",
    "        self.x = x\n",
    "        self.y = y\n",
    "        self.cost = cost \n",
    "        self.visited = visited\n",
    "        \n",
    "    def get_cost(self):\n",
    "        return self.cost"
   ]
  },
  {
   "cell_type": "code",
   "execution_count": 2,
   "metadata": {
    "collapsed": false
   },
   "outputs": [
    {
     "ename": "AttributeError",
     "evalue": "'singlePoint' object has no attribute 'get_x'",
     "output_type": "error",
     "traceback": [
      "\u001b[0;31m---------------------------------------------------------------------------\u001b[0m",
      "\u001b[0;31mAttributeError\u001b[0m                            Traceback (most recent call last)",
      "\u001b[0;32m<ipython-input-2-2bc5b0f965ad>\u001b[0m in \u001b[0;36m<module>\u001b[0;34m()\u001b[0m\n\u001b[1;32m     15\u001b[0m \u001b[0;34m\u001b[0m\u001b[0m\n\u001b[1;32m     16\u001b[0m \u001b[0;31m#debuging\u001b[0m\u001b[0;34m\u001b[0m\u001b[0;34m\u001b[0m\u001b[0m\n\u001b[0;32m---> 17\u001b[0;31m \u001b[0mprint\u001b[0m \u001b[0;34m(\u001b[0m\u001b[0;34m\"starting location:\"\u001b[0m \u001b[0;34m,\u001b[0m\u001b[0mstarting_coordinates\u001b[0m\u001b[0;34m.\u001b[0m\u001b[0mget_x\u001b[0m\u001b[0;34m(\u001b[0m\u001b[0;34m)\u001b[0m\u001b[0;34m,\u001b[0m\u001b[0;34m\",\"\u001b[0m\u001b[0;34m,\u001b[0m\u001b[0mstarting_coordinates\u001b[0m\u001b[0;34m.\u001b[0m\u001b[0mget_y\u001b[0m\u001b[0;34m(\u001b[0m\u001b[0;34m)\u001b[0m\u001b[0;34m)\u001b[0m\u001b[0;34m\u001b[0m\u001b[0m\n\u001b[0m\u001b[1;32m     18\u001b[0m \u001b[0;34m\u001b[0m\u001b[0m\n\u001b[1;32m     19\u001b[0m \u001b[0;34m\u001b[0m\u001b[0m\n",
      "\u001b[0;31mAttributeError\u001b[0m: 'singlePoint' object has no attribute 'get_x'"
     ]
    }
   ],
   "source": [
    "import re\n",
    "\n",
    "input_file = open(\"input.txt\",\"r\")\n",
    "lines = input_file.readlines()\n",
    "\n",
    "line1 = lines[0]\n",
    "line2 = lines[1]\n",
    "line3 = lines[2]\n",
    "line4 = lines[3]\n",
    "line5 = lines[4]\n",
    "\n",
    "#CODE to get starting point in first line\n",
    "starting_location_coordinates = re.findall('\\d+', line1)\n",
    "starting_coordinates = singlePoint(starting_location_coordinates[0],starting_location_coordinates[1])\n",
    "\n",
    "#debuging\n",
    "print (\"starting location:\" ,starting_coordinates.get_x(),\",\",starting_coordinates.get_y())\n",
    "\n",
    "\n",
    "#CODE to get exit point in second line\n",
    "exit_location_coordinates = re.findall('\\d+', line2)\n",
    "exit_coordinates = singlePoint(exit_location_coordinates[0],exit_location_coordinates[1])\n",
    "\n",
    "#debuging\n",
    "print (\"exit location:\" ,exit_coordinates.get_x(),\",\",exit_coordinates.get_y())\n",
    "\n",
    "\n",
    "#CODE to get qickSand point in third line\n",
    "quick_sands_location = re.findall('\\d+', line3)\n",
    "number_of_quick_sands = 0\n",
    "\n",
    "for i in quick_sands_location[:]:\n",
    "    number_of_quick_sands+=1\n",
    "\n",
    "if (number_of_quick_sands % 2 != 0):\n",
    "    number_of_quick_sands = number_of_quick_sands - 1\n",
    "\n",
    "\n",
    "quick_sand_array=[]\n",
    "for i in range(0,(int)(number_of_quick_sands/2)):\n",
    "    quick_sand = quickSand(quick_sands_location[i*2],quick_sands_location[i*2+1],0)\n",
    "    quick_sand_array.append(quick_sand)\n",
    "    \n",
    "#debuging\n",
    "for i in range(0,(int)(number_of_quick_sands/2)):\n",
    "    print (\"quick sand at :\" ,quick_sand_array[i].get_x(),\",\",quick_sand_array[i].get_y())\n",
    "\n",
    "    \n",
    "#CODE to get spider net point in fourth line\n",
    "spider_net_location = re.findall('\\d+', line4)\n",
    "number_of_spider_nets=0\n",
    "\n",
    "for i in spider_net_location[:]:\n",
    "    number_of_spider_nets+=1\n",
    "\n",
    "if ((number_of_spider_nets/2) % 2!=0):\n",
    "    number_of_spider_nets = number_of_spider_nets - 1\n",
    "\n",
    "spider_net_array=[]\n",
    "for i in range(0,(int)(number_of_spider_nets/2)):\n",
    "    spider_net = spiderNet(spider_net_location[(i*2)],spider_net_location[(i*2+1)],0)\n",
    "    spider_net_array.append(spider_net)\n",
    "    \n",
    "#debuging\n",
    "for i in range(0,(int)(number_of_spider_nets/2)):\n",
    "    x=int(spider_net_array[i].get_x())\n",
    "    y=int(spider_net_array[i].get_y())\n",
    "    for j in range(-1,2):\n",
    "        print (\"spider net at :\" +str(x) + \",\" + str(y+j))\n",
    "        print (\"spider net at :\" +str(x+j) + \",\" + str(y))       \n",
    "\n",
    "#CODE to get fees point in fourth line\n",
    "fees_location_and_cost = re.findall('\\d+', line5)\n",
    "number_of_fee_points = 0\n",
    "\n",
    "for i in fees_location_and_cost[:]:\n",
    "    number_of_fee_points+=1\n",
    "\n",
    "fees_array=[]\n",
    "for i in range(0,(int)(number_of_fee_points/3)):\n",
    "    fees = fee(fees_location_and_cost[i*3+1],fees_location_and_cost[i*3+2],fees_location_and_cost[i*3],0)\n",
    "    fees_array.append(fees)\n",
    "    \n",
    "#debuging\n",
    "for i in range(0,(int)(number_of_fee_points/3)):\n",
    "    print (\"fee at:\", fees_array[i].get_x(),\",\" ,fees_array[i].get_y(),\" cost: \",fees_array[i].get_cost())\n",
    "\n"
   ]
  },
  {
   "cell_type": "code",
   "execution_count": 9,
   "metadata": {
    "collapsed": false
   },
   "outputs": [],
   "source": [
    "import pylab as plot\n",
    "plot.axis([0,20,0,20])\n",
    "\n",
    "\n",
    "#GRID\n",
    "#plot.grid(color='r', linestyle='-', linewidth=.1)\n",
    "        #xstart,xend,ystart, yend\n",
    "for i in range(1,20):\n",
    "    plot.plot([i,i],[0,20],'b-',linewidth=.2)\n",
    "    plot.plot([0,20],[i,i],'b-',linewidth=.2)\n",
    "\n",
    "plot.plot(starting_coordinates.get_x(),starting_coordinates.get_y(),'go')\n",
    "plot.plot(exit_coordinates.get_x(),exit_coordinates.get_y(),'go')\n",
    "for i in range(0,(int)(number_of_quick_sands/2)):\n",
    "    plot.plot(quick_sand_array[i].get_x(),quick_sand_array[i].get_y(),'co')\n",
    "for i in range(0,(int)(number_of_spider_nets/2)):\n",
    "    x=int(spider_net_array[i].get_x())\n",
    "    y=int(spider_net_array[i].get_y())\n",
    "    for j in range(-1,2):\n",
    "        plot.plot(x,y+j,'bo')\n",
    "        plot.plot(x+j,y,'bo')\n",
    "    \n",
    "for i in range(0,(int)(number_of_fee_points/3)):\n",
    "    plot.plot(fees_array[i].get_x(),fees_array[i].get_y(),\"r*\",linewidth=3)\n",
    "\n",
    "plot.show()"
   ]
  },
  {
   "cell_type": "code",
   "execution_count": 3,
   "metadata": {
    "collapsed": false
   },
   "outputs": [],
   "source": [
    "class agent():\n",
    "    def __init__ (self,starting_x,starting_y,exit_x,exit_y):\n",
    "        self.starting_x=starting_x\n",
    "        self.starting_y=starting_y\n",
    "        self.exit_x=exit_x\n",
    "        self.exit_y=exit_y\n",
    "    "
   ]
  },
  {
   "cell_type": "code",
   "execution_count": 9,
   "metadata": {
    "collapsed": false
   },
   "outputs": [
    {
     "name": "stdout",
     "output_type": "stream",
     "text": [
      "7\n"
     ]
    }
   ],
   "source": [
    "double_o_seven = agent(starting_coordinates.get_x(),starting_coordinates.get_y(),exit_coordinates.get_x(),exit_coordinates.get_y())\n",
    "print(int(double_o_seven.starting_x)+5)"
   ]
  },
  {
   "cell_type": "code",
   "execution_count": null,
   "metadata": {
    "collapsed": true
   },
   "outputs": [],
   "source": []
  }
 ],
 "metadata": {
  "anaconda-cloud": {},
  "kernelspec": {
   "display_name": "Python [Root]",
   "language": "python",
   "name": "Python [Root]"
  },
  "language_info": {
   "codemirror_mode": {
    "name": "ipython",
    "version": 3
   },
   "file_extension": ".py",
   "mimetype": "text/x-python",
   "name": "python",
   "nbconvert_exporter": "python",
   "pygments_lexer": "ipython3",
   "version": "3.5.1"
  }
 },
 "nbformat": 4,
 "nbformat_minor": 0
}
